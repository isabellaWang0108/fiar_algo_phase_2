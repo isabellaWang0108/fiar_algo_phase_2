{
 "cells": [
  {
   "cell_type": "markdown",
   "metadata": {
    "id": "A1mqyLX-YD8X"
   },
   "source": [
    "#### Data imports & data cleaning  \n",
    "The dataset we are using for the project is LFM-2B (http://www.cp.jku.at/datasets/LFM-2b/)\n",
    "- sample from a bigger dataset that has less missing data\n",
    "- link demographic data of the artists (musicbrainz.org)(https://musicbrainz.org/doc/Style/Artist)\n",
    "\n",
    "- https://developer.spotify.com/documentation/web-api\n",
    "\n",
    "\n",
    "## Preprocessing - Amir\n",
    "#### Extract\n",
    "Download the following tables - [Data Source](http://www.cp.jku.at/datasets/LFM-2b/)\n",
    "1. `lyrics-features.json.bz2` (full version) (~6.1GB)\n",
    "2. `user_track_playcount.zip` (Adapted for Track Recommendation) (~8.6GB)\n",
    "3. `song_ids.zip` (Adapted for Track Recommendation) (~2.6GB)\n",
    "4. `user_demographics.zip` (Adapted for Track Recommendation) (4.0MB)\n",
    "\n",
    "`lyrics-features.json.bz2` must first be extracted into a `.json` file. Since I use a windows device, I used 7-Zip. These files are too large, so I enter them into a PostgreSQL database through DBeaver. However, `.json` files are not accepted in PostgreSQL, So I write a Python script to convert the `.json` into a `.csv` file. The file is quite large because there is a BERT embedding vector representation of the lyrics for every song. I exclude the BERT embedding when converting the JSON to a CSV, and instead save the BERT embedding to a `.pt` file so that it may be utilized for modeling and analysis.\n",
    "\n",
    "The three other data tables must also be converted into a CSV file because the columns are not labeled neatly. So, I write another python script to convert `.tsv` files into `.csv`. Entering column names is programed manually into the script, as these files are too large to edit within Excel.\n",
    "\n",
    "#### Transform\n",
    "Next, I hop into SQL and do the following:\n",
    "1. Create the tables\n",
    "2. Import the data\n",
    "3. Determined the primary & foreign keys\n",
    "4. Merge\n",
    "5. Sample\n",
    "6. Export\n",
    "\n",
    "\n",
    "\n",
    "#### More Extracting\n",
    "Now remember, we still have the BERT embeddings. This embedding file is a `.pt` file. Since we've sampled the data, I go back and I recreate the `.pt` file, ensuring that only songs that are accounted for in the sample are included in the word embedding. A song's embedding can be accessed via the key,\n",
    "\n",
    "`key = f\"{json_obj['_id']['artist']} - {json_obj['_id']['track']}\"`\n",
    "\n",
    "that is, `artist - track` is the key. This embedding is only a numeric representation of the lyrics meant to be able to quantify the text data as a function of direction and magnitude with respect to the english language. Each song's lyrics can be defined as a vector in space. We can use cosine similarity to see how similar two vectors (or lyrics) are. In this case, we'll use it to build a recommendation model\n",
    "\n",
    "You can find all the helper files in the drive. The original tables are obviously too large to import into Google Drive, but you can download them yourself and run the scripts from there. Just ensure you have enough space, and double check file paths in the Python code.\n",
    "\n",
    "#### Loading\n",
    "\n",
    "Well, here ya go.\n"
   ]
  },
  {
   "cell_type": "code",
   "execution_count": null,
   "metadata": {
    "id": "6882N8QwW_no"
   },
   "outputs": [],
   "source": []
  },
  {
   "cell_type": "markdown",
   "metadata": {
    "id": "EuJ6mCURXGJw"
   },
   "source": [
    "## Come up with a new topic (music recommendation)\n",
    "keyword: artists, gender, music recommendation  \n",
    "Designing Fair Algorithms SP24, Phase 2  \n",
    "Team: Amir ElTabakh(ae362), Isabella Wang(xw574), Amber Tsao(ct649), Zhixuan Qi(zq83)   \n",
    "Introduction:\n",
    "[TODO, A small paragraph about the project] [Amber]\n"
   ]
  },
  {
   "cell_type": "markdown",
   "metadata": {
    "id": "AHcKUhfyYhoz"
   },
   "source": [
    "#### Summary statistics"
   ]
  },
  {
   "cell_type": "code",
   "execution_count": null,
   "metadata": {
    "id": "UefIRfLSYhUh"
   },
   "outputs": [],
   "source": []
  },
  {
   "cell_type": "markdown",
   "metadata": {
    "id": "3RJiaJ7SYiHK"
   },
   "source": [
    "#### Research Question, Hypotheses, and Analysis Plan\n",
    "- RQ:  (**gender**, subgenre)"
   ]
  },
  {
   "cell_type": "markdown",
   "metadata": {
    "id": "W7oO6CA4a-_6"
   },
   "source": [
    "## Modeling\n",
    "\n",
    "- collaborative filtering: ALS [Amber]\n",
    "- content-based recommendation: ItemKNN (https://recbole.io/docs/user_guide/model/general/itemknn.html)(tags)[Zhixuan]\n",
    "- content-based recommendation: ItemKNN (Spotify(optional))\n"
   ]
  },
  {
   "cell_type": "markdown",
   "metadata": {},
   "source": [
    "#### Baseline: **POP** (https://recbole.io/docs/user_guide/model/general/pop.html)[Isabella]\n",
    "This algorithm records the popularity of songs in the dataset and recommend the most popular track to the users.\n",
    "The popularity of an item is usually determined by the frequency of user interactions with it (listening counts). The algorithm is also used as baseline for our project, because it does not contain any personalization element in it. It serves as a good comparison how does the baseline look without any optimization or personalization involved."
   ]
  },
  {
   "cell_type": "code",
   "execution_count": 89,
   "metadata": {},
   "outputs": [
    {
     "name": "stdout",
     "output_type": "stream",
     "text": [
      "Requirement already satisfied: recbole in /Users/isabella/anaconda3/lib/python3.11/site-packages (1.2.0)\n",
      "Requirement already satisfied: torch>=1.10.0 in /Users/isabella/anaconda3/lib/python3.11/site-packages (from recbole) (2.2.1)\n",
      "Requirement already satisfied: numpy>=1.17.2 in /Users/isabella/anaconda3/lib/python3.11/site-packages (from recbole) (1.24.3)\n",
      "Requirement already satisfied: scipy>=1.6.0 in /Users/isabella/anaconda3/lib/python3.11/site-packages (from recbole) (1.10.1)\n",
      "Requirement already satisfied: pandas>=1.4.0 in /Users/isabella/anaconda3/lib/python3.11/site-packages (from recbole) (1.5.3)\n",
      "Requirement already satisfied: tqdm>=4.48.2 in /Users/isabella/anaconda3/lib/python3.11/site-packages (from recbole) (4.65.0)\n",
      "Requirement already satisfied: colorlog==4.7.2 in /Users/isabella/anaconda3/lib/python3.11/site-packages (from recbole) (4.7.2)\n",
      "Requirement already satisfied: colorama==0.4.4 in /Users/isabella/anaconda3/lib/python3.11/site-packages (from recbole) (0.4.4)\n",
      "Requirement already satisfied: scikit-learn>=0.23.2 in /Users/isabella/anaconda3/lib/python3.11/site-packages (from recbole) (1.3.0)\n",
      "Requirement already satisfied: pyyaml>=5.1.0 in /Users/isabella/anaconda3/lib/python3.11/site-packages (from recbole) (6.0)\n",
      "Requirement already satisfied: tensorboard>=2.5.0 in /Users/isabella/anaconda3/lib/python3.11/site-packages (from recbole) (2.16.2)\n",
      "Requirement already satisfied: thop>=0.1.1.post2207130030 in /Users/isabella/anaconda3/lib/python3.11/site-packages (from recbole) (0.1.1.post2209072238)\n",
      "Requirement already satisfied: tabulate>=0.8.10 in /Users/isabella/anaconda3/lib/python3.11/site-packages (from recbole) (0.8.10)\n",
      "Requirement already satisfied: plotly>=4.0.0 in /Users/isabella/anaconda3/lib/python3.11/site-packages (from recbole) (5.9.0)\n",
      "Requirement already satisfied: texttable>=0.9.0 in /Users/isabella/anaconda3/lib/python3.11/site-packages (from recbole) (1.7.0)\n",
      "Requirement already satisfied: python-dateutil>=2.8.1 in /Users/isabella/anaconda3/lib/python3.11/site-packages (from pandas>=1.4.0->recbole) (2.8.2)\n",
      "Requirement already satisfied: pytz>=2020.1 in /Users/isabella/anaconda3/lib/python3.11/site-packages (from pandas>=1.4.0->recbole) (2022.7)\n",
      "Requirement already satisfied: tenacity>=6.2.0 in /Users/isabella/anaconda3/lib/python3.11/site-packages (from plotly>=4.0.0->recbole) (8.2.2)\n",
      "Requirement already satisfied: joblib>=1.1.1 in /Users/isabella/anaconda3/lib/python3.11/site-packages (from scikit-learn>=0.23.2->recbole) (1.2.0)\n",
      "Requirement already satisfied: threadpoolctl>=2.0.0 in /Users/isabella/anaconda3/lib/python3.11/site-packages (from scikit-learn>=0.23.2->recbole) (2.2.0)\n",
      "Requirement already satisfied: absl-py>=0.4 in /Users/isabella/anaconda3/lib/python3.11/site-packages (from tensorboard>=2.5.0->recbole) (2.1.0)\n",
      "Requirement already satisfied: grpcio>=1.48.2 in /Users/isabella/anaconda3/lib/python3.11/site-packages (from tensorboard>=2.5.0->recbole) (1.60.1)\n",
      "Requirement already satisfied: markdown>=2.6.8 in /Users/isabella/anaconda3/lib/python3.11/site-packages (from tensorboard>=2.5.0->recbole) (3.4.1)\n",
      "Requirement already satisfied: protobuf!=4.24.0,>=3.19.6 in /Users/isabella/anaconda3/lib/python3.11/site-packages (from tensorboard>=2.5.0->recbole) (4.25.2)\n",
      "Requirement already satisfied: setuptools>=41.0.0 in /Users/isabella/anaconda3/lib/python3.11/site-packages (from tensorboard>=2.5.0->recbole) (68.0.0)\n",
      "Requirement already satisfied: six>1.9 in /Users/isabella/anaconda3/lib/python3.11/site-packages (from tensorboard>=2.5.0->recbole) (1.16.0)\n",
      "Requirement already satisfied: tensorboard-data-server<0.8.0,>=0.7.0 in /Users/isabella/anaconda3/lib/python3.11/site-packages (from tensorboard>=2.5.0->recbole) (0.7.2)\n",
      "Requirement already satisfied: werkzeug>=1.0.1 in /Users/isabella/anaconda3/lib/python3.11/site-packages (from tensorboard>=2.5.0->recbole) (2.2.3)\n",
      "Requirement already satisfied: filelock in /Users/isabella/anaconda3/lib/python3.11/site-packages (from torch>=1.10.0->recbole) (3.9.0)\n",
      "Requirement already satisfied: typing-extensions>=4.8.0 in /Users/isabella/anaconda3/lib/python3.11/site-packages (from torch>=1.10.0->recbole) (4.10.0)\n",
      "Requirement already satisfied: sympy in /Users/isabella/anaconda3/lib/python3.11/site-packages (from torch>=1.10.0->recbole) (1.11.1)\n",
      "Requirement already satisfied: networkx in /Users/isabella/anaconda3/lib/python3.11/site-packages (from torch>=1.10.0->recbole) (3.1)\n",
      "Requirement already satisfied: jinja2 in /Users/isabella/anaconda3/lib/python3.11/site-packages (from torch>=1.10.0->recbole) (3.1.2)\n",
      "Requirement already satisfied: fsspec in /Users/isabella/anaconda3/lib/python3.11/site-packages (from torch>=1.10.0->recbole) (2023.3.0)\n",
      "Requirement already satisfied: MarkupSafe>=2.1.1 in /Users/isabella/anaconda3/lib/python3.11/site-packages (from werkzeug>=1.0.1->tensorboard>=2.5.0->recbole) (2.1.1)\n",
      "Requirement already satisfied: mpmath>=0.19 in /Users/isabella/anaconda3/lib/python3.11/site-packages (from sympy->torch>=1.10.0->recbole) (1.3.0)\n",
      "Requirement already satisfied: ray in /Users/isabella/anaconda3/lib/python3.11/site-packages (2.9.3)\n",
      "Requirement already satisfied: click>=7.0 in /Users/isabella/anaconda3/lib/python3.11/site-packages (from ray) (8.1.7)\n",
      "Requirement already satisfied: filelock in /Users/isabella/anaconda3/lib/python3.11/site-packages (from ray) (3.9.0)\n",
      "Requirement already satisfied: jsonschema in /Users/isabella/anaconda3/lib/python3.11/site-packages (from ray) (4.17.3)\n",
      "Requirement already satisfied: msgpack<2.0.0,>=1.0.0 in /Users/isabella/anaconda3/lib/python3.11/site-packages (from ray) (1.0.3)\n",
      "Requirement already satisfied: packaging in /Users/isabella/anaconda3/lib/python3.11/site-packages (from ray) (23.0)\n",
      "Requirement already satisfied: protobuf!=3.19.5,>=3.15.3 in /Users/isabella/anaconda3/lib/python3.11/site-packages (from ray) (4.25.2)\n",
      "Requirement already satisfied: pyyaml in /Users/isabella/anaconda3/lib/python3.11/site-packages (from ray) (6.0)\n",
      "Requirement already satisfied: aiosignal in /Users/isabella/anaconda3/lib/python3.11/site-packages (from ray) (1.2.0)\n",
      "Requirement already satisfied: frozenlist in /Users/isabella/anaconda3/lib/python3.11/site-packages (from ray) (1.3.3)\n",
      "Requirement already satisfied: requests in /Users/isabella/anaconda3/lib/python3.11/site-packages (from ray) (2.31.0)\n",
      "Requirement already satisfied: attrs>=17.4.0 in /Users/isabella/anaconda3/lib/python3.11/site-packages (from jsonschema->ray) (22.1.0)\n",
      "Requirement already satisfied: pyrsistent!=0.17.0,!=0.17.1,!=0.17.2,>=0.14.0 in /Users/isabella/anaconda3/lib/python3.11/site-packages (from jsonschema->ray) (0.18.0)\n",
      "Requirement already satisfied: charset-normalizer<4,>=2 in /Users/isabella/anaconda3/lib/python3.11/site-packages (from requests->ray) (2.0.4)\n",
      "Requirement already satisfied: idna<4,>=2.5 in /Users/isabella/anaconda3/lib/python3.11/site-packages (from requests->ray) (3.4)\n",
      "Requirement already satisfied: urllib3<3,>=1.21.1 in /Users/isabella/anaconda3/lib/python3.11/site-packages (from requests->ray) (1.26.16)\n",
      "Requirement already satisfied: certifi>=2017.4.17 in /Users/isabella/anaconda3/lib/python3.11/site-packages (from requests->ray) (2023.7.22)\n",
      "Requirement already satisfied: kmeans-pytorch in /Users/isabella/anaconda3/lib/python3.11/site-packages (0.3)\n"
     ]
    }
   ],
   "source": [
    "!pip install recbole\n",
    "!pip install ray\n",
    "!pip install kmeans-pytorch\n",
    "from recbole.quick_start import run_recbole"
   ]
  },
  {
   "cell_type": "code",
   "execution_count": 114,
   "metadata": {},
   "outputs": [],
   "source": [
    "# What's the datafile and structure again?"
   ]
  },
  {
   "cell_type": "code",
   "execution_count": null,
   "metadata": {},
   "outputs": [],
   "source": []
  },
  {
   "cell_type": "markdown",
   "metadata": {},
   "source": [
    "#### BPR (https://recbole.io/docs/user_guide/model/general/bpr.html) -  Isabella\n",
    "\n",
    "Bayesian Personalized Ranking (BPR) is a common algorithm used in recommendation system. It generates personalized ranking for users using implicit inputs, like clicks, views, or purchases. In our case, that input would be listening counts (#of times a user listens to a track). The assumption is that user is more likely to prefer items similar to the ones they've interacted with in past.\n",
    "\n",
    "Assumption: The algorithm uses pairwise preference assessment. The idea is that a randomly chosen interected item is ranked higher than a randomly chosen uninteracted item.  \n",
    "Input: It encodes inputs using matrix factorization techniques. User and item interactions are decomposed into latent factors.  \n",
    "Optimizer: Stochastic Gradient Descent (SGD\n",
    "Objective Function: Maximum Posterior Estimation(MAP)"
   ]
  },
  {
   "cell_type": "code",
   "execution_count": 113,
   "metadata": {},
   "outputs": [
    {
     "name": "stderr",
     "output_type": "stream",
     "text": [
      "10 Mar 22:29    INFO  [Training]: train_batch_size = [2048] train_neg_sample_args: [{'distribution': 'uniform', 'sample_num': 1, 'alpha': 1.0, 'dynamic': False, 'candidate_num': 0}]\n",
      "10 Mar 22:29    INFO  [Evaluation]: eval_batch_size = [4096] eval_args: [{'split': {'RS': [0.8, 0.1, 0.1]}, 'order': 'RO', 'group_by': 'user', 'mode': {'valid': 'full', 'test': 'full'}}]\n"
     ]
    }
   ],
   "source": [
    "from recbole.model.general_recommender import BPR\n",
    "import os\n",
    "from recbole.config import Config\n",
    "from recbole.data import create_dataset\n",
    "from recbole.data import data_preparation\n",
    "\n",
    "# Load custom data\n",
    "config = Config(model='BPR', dataset='mock_data', config_file_list=['dataset/mock_data/mock_data.yaml', 'dataset/mock_data/bpr_algo.yaml'])\n",
    "dataset = create_dataset(config)\n",
    "train_data, valid_data, test_data = data_preparation(config, dataset)\n",
    "# train_data.dataset\n",
    "# Initialize the model\n",
    "model = BPR(config, train_data.dataset)"
   ]
  },
  {
   "cell_type": "code",
   "execution_count": 92,
   "metadata": {
    "id": "HesiIbRYYURn",
    "scrolled": true
   },
   "outputs": [
    {
     "data": {
      "text/plain": [
       "BPR(\n",
       "  (user_embedding): Embedding(7, 64)\n",
       "  (item_embedding): Embedding(6, 64)\n",
       "  (loss): BPRLoss()\n",
       ")"
      ]
     },
     "execution_count": 92,
     "metadata": {},
     "output_type": "execute_result"
    }
   ],
   "source": [
    "# Initialize model with custom feature\n",
    "model = BPR(config, dataset)\n",
    "model.train()\n",
    "model"
   ]
  },
  {
   "cell_type": "code",
   "execution_count": 112,
   "metadata": {},
   "outputs": [],
   "source": [
    "from recbole.data.interaction import Interaction\n",
    "import torch\n",
    "\n",
    "user_ids = train_data.dataset.inter_feat['user_id']\n",
    "unique_user_ids = np.unique(user_ids)\n",
    "# print(\"Unique User IDs:\", unique_user_ids)\n",
    "\n",
    "user_tensor = user_ids.clone().detach()\n",
    "test_interaction = Interaction({'user_id': user_tensor})\n",
    "test_interaction = test_interaction.to(config['device'])\n",
    "scores = model.full_sort_predict(test_interaction)\n",
    "\n",
    "# Get top recommendations\n",
    "top_k = 1  # Number of top items to recommend\n",
    "_, topk_indices = torch.topk(scores, k=top_k)\n",
    "\n",
    "\n",
    "item_index_to_id = dataset.id2token('song_id', torch.arange(dataset.item_num))\n",
    "\n",
    "#still need to finish the code\n",
    "# We are getting top 10 recommendation list then analyze the gender?"
   ]
  },
  {
   "cell_type": "markdown",
   "metadata": {
    "id": "eHVKq8LmbJgi"
   },
   "source": [
    "#### Results\n",
    "- Performance Metrics: HitRatio@10, nDCG@10\n",
    "- Fairness Metrics: Avg position 1st Female artists, Male artists, % females rec coverage\n"
   ]
  },
  {
   "cell_type": "code",
   "execution_count": null,
   "metadata": {
    "id": "r36xZ3ukbYOE"
   },
   "outputs": [],
   "source": []
  },
  {
   "cell_type": "markdown",
   "metadata": {
    "id": "pyuA5SS_bNCc"
   },
   "source": [
    "#### Contribution Notes"
   ]
  },
  {
   "cell_type": "markdown",
   "metadata": {
    "id": "zW72HcX0bVuc"
   },
   "source": [
    "#### Sources cited"
   ]
  }
 ],
 "metadata": {
  "colab": {
   "provenance": []
  },
  "kernelspec": {
   "display_name": "Python 3 (ipykernel)",
   "language": "python",
   "name": "python3"
  },
  "language_info": {
   "codemirror_mode": {
    "name": "ipython",
    "version": 3
   },
   "file_extension": ".py",
   "mimetype": "text/x-python",
   "name": "python",
   "nbconvert_exporter": "python",
   "pygments_lexer": "ipython3",
   "version": "3.11.4"
  }
 },
 "nbformat": 4,
 "nbformat_minor": 1
}
